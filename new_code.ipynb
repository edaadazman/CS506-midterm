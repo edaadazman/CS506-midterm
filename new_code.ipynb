{
 "cells": [
  {
   "cell_type": "markdown",
   "metadata": {},
   "source": [
    "# Environment Setup"
   ]
  },
  {
   "cell_type": "code",
   "execution_count": 1,
   "metadata": {},
   "outputs": [
    {
     "name": "stderr",
     "output_type": "stream",
     "text": [
      "[nltk_data] Downloading package stopwords to /Users/edaad/nltk_data...\n",
      "[nltk_data]   Package stopwords is already up-to-date!\n",
      "[nltk_data] Downloading package wordnet to /Users/edaad/nltk_data...\n",
      "[nltk_data]   Package wordnet is already up-to-date!\n",
      "[nltk_data] Downloading package punkt to /Users/edaad/nltk_data...\n",
      "[nltk_data]   Unzipping tokenizers/punkt.zip.\n"
     ]
    },
    {
     "name": "stdout",
     "output_type": "stream",
     "text": [
      "Train shape: (1697533, 9)\n",
      "Test shape: (212192, 2)\n"
     ]
    }
   ],
   "source": [
    "# Import Libraries\n",
    "import pandas as pd\n",
    "import numpy as np\n",
    "import matplotlib.pyplot as plt\n",
    "import seaborn as sns\n",
    "\n",
    "# For text processing\n",
    "from sklearn.feature_extraction.text import TfidfVectorizer\n",
    "\n",
    "# For model building and evaluation\n",
    "from sklearn.model_selection import train_test_split, GridSearchCV, cross_val_score\n",
    "from sklearn.metrics import accuracy_score, confusion_matrix, classification_report\n",
    "\n",
    "# Machine Learning models\n",
    "from sklearn.linear_model import LogisticRegression\n",
    "import xgboost as xgb  # XGBoost library\n",
    "\n",
    "# To handle sparse matrices\n",
    "from scipy.sparse import hstack, csr_matrix\n",
    "\n",
    "# For text preprocessing\n",
    "import re\n",
    "import nltk\n",
    "from nltk.corpus import stopwords\n",
    "from nltk.stem import WordNetLemmatizer\n",
    "\n",
    "# For sentiment analysis\n",
    "from textblob import TextBlob\n",
    "\n",
    "# For progress bar\n",
    "from tqdm import tqdm\n",
    "\n",
    "# Suppress warnings\n",
    "import warnings\n",
    "warnings.filterwarnings('ignore')\n",
    "\n",
    "# Download NLTK data (if not already downloaded)\n",
    "nltk.download('stopwords')\n",
    "nltk.download('wordnet')\n",
    "nltk.download('punkt')\n",
    "\n",
    "# Load the data\n",
    "train_df = pd.read_csv('./data/train.csv')\n",
    "test_df = pd.read_csv('./data/test.csv')\n",
    "\n",
    "print(\"Train shape:\", train_df.shape)\n",
    "print(\"Test shape:\", test_df.shape)\n"
   ]
  },
  {
   "cell_type": "markdown",
   "metadata": {},
   "source": [
    "# Data Loading and Exploration"
   ]
  },
  {
   "cell_type": "code",
   "execution_count": 2,
   "metadata": {},
   "outputs": [
    {
     "name": "stdout",
     "output_type": "stream",
     "text": [
      "        Id   ProductId          UserId  HelpfulnessNumerator  \\\n",
      "0   914403  B0009W5KHM   AV6QDP8Q0ONK4                     2   \n",
      "1   354887  6303079709  A2I8RXJN80A2D2                     0   \n",
      "2  1407653  B004H0M2XC  A3FHV3RV8Z12E6                     0   \n",
      "3  1377458  B003ZJ9536  A12VLTA3ZHVPUY                     1   \n",
      "4   475323  630574453X  A13NM1PES9OXVN                     2   \n",
      "\n",
      "   HelpfulnessDenominator        Time  \\\n",
      "0                       2  1341014400   \n",
      "1                       0  1168819200   \n",
      "2                       0  1386201600   \n",
      "3                       1  1348704000   \n",
      "4                       3   970012800   \n",
      "\n",
      "                                         Summary  \\\n",
      "0                                  GOOD FUN FILM   \n",
      "1                                   Movie Review   \n",
      "2             When is it a good time to Consent?   \n",
      "3                                          TRUTH   \n",
      "4  Intelligent and bittersweet -- stays with you   \n",
      "\n",
      "                                                Text  Score  \n",
      "0  While most straight to DVD films are not worth...    5.0  \n",
      "1  I have wanted this one for sometime, also.  I ...    5.0  \n",
      "2  Actually this was a pretty darn good indie fil...    4.0  \n",
      "3  Episodes 37 to 72 of the series press on in a ...    5.0  \n",
      "4  I was really impressed with this movie, but wa...    3.0  \n",
      "Missing values in training data:\n",
      "Id                             0\n",
      "ProductId                      0\n",
      "UserId                         0\n",
      "HelpfulnessNumerator           0\n",
      "HelpfulnessDenominator         0\n",
      "Time                           0\n",
      "Summary                       32\n",
      "Text                          62\n",
      "Score                     212192\n",
      "dtype: int64\n"
     ]
    }
   ],
   "source": [
    "# Display first few rows of the training data\n",
    "print(train_df.head())\n",
    "\n",
    "# Check for missing values in training data\n",
    "print(\"Missing values in training data:\")\n",
    "print(train_df.isnull().sum())\n"
   ]
  },
  {
   "cell_type": "markdown",
   "metadata": {},
   "source": [
    "# Feature Engineering"
   ]
  },
  {
   "cell_type": "code",
   "execution_count": 3,
   "metadata": {},
   "outputs": [
    {
     "name": "stdout",
     "output_type": "stream",
     "text": [
      "Sampled train data shape: (148534, 9)\n",
      "Preprocessing training text data...\n"
     ]
    },
    {
     "name": "stderr",
     "output_type": "stream",
     "text": [
      "100%|██████████| 148534/148534 [00:40<00:00, 3650.07it/s]\n"
     ]
    },
    {
     "name": "stdout",
     "output_type": "stream",
     "text": [
      "Preprocessing test text data...\n"
     ]
    },
    {
     "name": "stderr",
     "output_type": "stream",
     "text": [
      "100%|██████████| 212192/212192 [00:54<00:00, 3890.55it/s]\n"
     ]
    },
    {
     "name": "stdout",
     "output_type": "stream",
     "text": [
      "Performing sentiment analysis on training data...\n"
     ]
    },
    {
     "name": "stderr",
     "output_type": "stream",
     "text": [
      "100%|██████████| 148534/148534 [00:49<00:00, 3013.26it/s]\n"
     ]
    },
    {
     "name": "stdout",
     "output_type": "stream",
     "text": [
      "Performing sentiment analysis on test data...\n"
     ]
    },
    {
     "name": "stderr",
     "output_type": "stream",
     "text": [
      "100%|██████████| 212192/212192 [01:10<00:00, 2998.51it/s]\n"
     ]
    },
    {
     "name": "stdout",
     "output_type": "stream",
     "text": [
      "Fitting TF-IDF vectorizer...\n"
     ]
    }
   ],
   "source": [
    "# Filter out rows with NaN 'Score' (these are the test samples)\n",
    "train_non_null = train_df[train_df['Score'].notnull()].copy()\n",
    "\n",
    "# Convert 'Score' to integer (if it's not already)\n",
    "train_non_null['Score'] = train_non_null['Score'].astype(int)\n",
    "\n",
    "# Set sample fraction (adjustable)\n",
    "sample_fraction = 0.1  # Set to 0.1 for 10%, adjust as needed\n",
    "\n",
    "# Sample a fraction of the non-null training data\n",
    "train_sample = train_non_null.sample(frac=sample_fraction, random_state=42).copy()\n",
    "train_sample.reset_index(drop=True, inplace=True)\n",
    "\n",
    "print(\"Sampled train data shape:\", train_sample.shape)\n",
    "\n",
    "def add_features_to(df):\n",
    "    # Handle missing values in 'HelpfulnessDenominator' to avoid division by zero\n",
    "    df['HelpfulnessDenominator'] = df['HelpfulnessDenominator'].replace(0, np.nan)\n",
    "    df['Helpfulness'] = df['HelpfulnessNumerator'] / df['HelpfulnessDenominator']\n",
    "    df['Helpfulness'] = df['Helpfulness'].fillna(0)\n",
    "\n",
    "    # Convert 'Time' to datetime and extract components\n",
    "    df['Time'] = pd.to_datetime(df['Time'], unit='s')\n",
    "    df['Review_Year'] = df['Time'].dt.year\n",
    "    df['Review_Month'] = df['Time'].dt.month\n",
    "    df['Review_Day'] = df['Time'].dt.day\n",
    "\n",
    "    # Fill NaN in 'Summary' and 'Text'\n",
    "    df['Summary'] = df['Summary'].fillna('')\n",
    "    df['Text'] = df['Text'].fillna('')\n",
    "\n",
    "    # Length of 'Summary' and 'Text'\n",
    "    df['Summary_length'] = df['Summary'].str.len()\n",
    "    df['Text_length'] = df['Text'].str.len()\n",
    "\n",
    "    # Word count in 'Summary' and 'Text'\n",
    "    df['Summary_word_count'] = df['Summary'].str.split().str.len()\n",
    "    df['Text_word_count'] = df['Text'].str.split().str.len()\n",
    "    \n",
    "    return df\n",
    "\n",
    "# Apply the function to the sampled train data\n",
    "train_sample = add_features_to(train_sample)\n",
    "train_sample.reset_index(drop=True, inplace=True)\n",
    "\n",
    "# Prepare test data\n",
    "test_ids = test_df['Id'].unique()\n",
    "test_data = train_df[train_df['Id'].isin(test_ids)].copy()\n",
    "test_data.reset_index(drop=True, inplace=True)\n",
    "\n",
    "# Apply feature engineering to test data\n",
    "test_data = add_features_to(test_data)\n",
    "\n",
    "stop_words = set(stopwords.words('english'))\n",
    "lemmatizer = WordNetLemmatizer()\n",
    "\n",
    "def preprocess_text_lemmatize(text):\n",
    "    # Remove non-alphabetic characters and convert to lowercase\n",
    "    text = re.sub('[^a-zA-Z]', ' ', text).lower()\n",
    "    # Tokenize\n",
    "    words = text.split()\n",
    "    # Remove stop words and lemmatize\n",
    "    words = [lemmatizer.lemmatize(word) for word in words if word not in stop_words]\n",
    "    # Join words back into one string\n",
    "    return ' '.join(words)\n",
    "\n",
    "# Combine 'Summary' and 'Text' in train and test data\n",
    "train_sample['Combined_Text'] = train_sample['Summary'] + ' ' + train_sample['Text']\n",
    "test_data['Combined_Text'] = test_data['Summary'] + ' ' + test_data['Text']\n",
    "\n",
    "# Apply lemmatization to 'Combined_Text' with progress bar\n",
    "print(\"Preprocessing training text data...\")\n",
    "train_sample['Cleaned_Text'] = [\n",
    "    preprocess_text_lemmatize(text) for text in tqdm(train_sample['Combined_Text'])\n",
    "]\n",
    "\n",
    "print(\"Preprocessing test text data...\")\n",
    "test_data['Cleaned_Text'] = [\n",
    "    preprocess_text_lemmatize(text) for text in tqdm(test_data['Combined_Text'])\n",
    "]\n",
    "\n",
    "def get_sentiment(text):\n",
    "    analysis = TextBlob(text)\n",
    "    return pd.Series([analysis.sentiment.polarity, analysis.sentiment.subjectivity])\n",
    "\n",
    "# Apply to train data with progress bar\n",
    "print(\"Performing sentiment analysis on training data...\")\n",
    "train_sentiment = pd.DataFrame([\n",
    "    get_sentiment(text) for text in tqdm(train_sample['Cleaned_Text'])\n",
    "], columns=['Polarity', 'Subjectivity'])\n",
    "\n",
    "# Apply to test data with progress bar\n",
    "print(\"Performing sentiment analysis on test data...\")\n",
    "test_sentiment = pd.DataFrame([\n",
    "    get_sentiment(text) for text in tqdm(test_data['Cleaned_Text'])\n",
    "], columns=['Polarity', 'Subjectivity'])\n",
    "\n",
    "# Combine the data for vectorization\n",
    "combined_cleaned_data = pd.concat([train_sample['Cleaned_Text'], test_data['Cleaned_Text']], axis=0)\n",
    "\n",
    "# Initialize TF-IDF Vectorizer with increased max_features\n",
    "tfidf_vectorizer = TfidfVectorizer(max_features=10000, ngram_range=(1,2))\n",
    "\n",
    "print(\"Fitting TF-IDF vectorizer...\")\n",
    "# Fit and transform the combined text data\n",
    "tfidf_combined_text = tfidf_vectorizer.fit_transform(combined_cleaned_data)\n",
    "\n",
    "# Split the vectorized data back into train and test sets\n",
    "tfidf_train = tfidf_combined_text[:len(train_sample)]\n",
    "tfidf_test = tfidf_combined_text[len(train_sample):]\n",
    "\n",
    "# Frequency encoding for 'ProductId' and 'UserId'\n",
    "product_freq = train_sample['ProductId'].value_counts().to_dict()\n",
    "user_freq = train_sample['UserId'].value_counts().to_dict()\n",
    "\n",
    "train_sample['ProductFreq'] = train_sample['ProductId'].map(product_freq)\n",
    "train_sample['UserFreq'] = train_sample['UserId'].map(user_freq)\n",
    "\n",
    "test_data['ProductFreq'] = test_data['ProductId'].map(product_freq).fillna(0)\n",
    "test_data['UserFreq'] = test_data['UserId'].map(user_freq).fillna(0)\n",
    "\n",
    "# Add sentiment features to numeric features\n",
    "train_sample['Polarity'] = train_sentiment['Polarity']\n",
    "train_sample['Subjectivity'] = train_sentiment['Subjectivity']\n",
    "\n",
    "test_data['Polarity'] = test_sentiment['Polarity']\n",
    "test_data['Subjectivity'] = test_sentiment['Subjectivity']\n",
    "\n",
    "# List of numerical features\n",
    "numeric_features = ['HelpfulnessNumerator', 'HelpfulnessDenominator', 'Helpfulness',\n",
    "                    'Summary_length', 'Text_length', 'Summary_word_count', 'Text_word_count',\n",
    "                    'Review_Year', 'Review_Month', 'Review_Day',\n",
    "                    'ProductFreq', 'UserFreq', 'Polarity', 'Subjectivity']\n",
    "\n",
    "# Prepare numeric features for training and testing data\n",
    "X_train_numeric = train_sample[numeric_features].fillna(0).reset_index(drop=True)\n",
    "X_test_numeric = test_data[numeric_features].fillna(0).reset_index(drop=True)\n",
    "\n",
    "# Combine TF-IDF features with numeric features\n",
    "X_train_combined = hstack([tfidf_train, csr_matrix(X_train_numeric.values)])\n",
    "X_test_combined = hstack([tfidf_test, csr_matrix(X_test_numeric.values)])\n",
    "\n",
    "# Define the target variable\n",
    "y_train = train_sample['Score']\n",
    "\n"
   ]
  },
  {
   "cell_type": "markdown",
   "metadata": {},
   "source": [
    "# Handling Class Imbalance"
   ]
  },
  {
   "cell_type": "code",
   "execution_count": 4,
   "metadata": {},
   "outputs": [
    {
     "name": "stdout",
     "output_type": "stream",
     "text": [
      "Class distribution in training data:\n",
      "Score\n",
      "5    0.535790\n",
      "4    0.226029\n",
      "3    0.118195\n",
      "1    0.061144\n",
      "2    0.058842\n",
      "Name: proportion, dtype: float64\n"
     ]
    }
   ],
   "source": [
    "# Check class distribution\n",
    "print(\"Class distribution in training data:\")\n",
    "print(y_train.value_counts(normalize=True))\n",
    "\n",
    "# Use class weights in models\n",
    "class_weights = 'balanced'\n"
   ]
  },
  {
   "cell_type": "markdown",
   "metadata": {},
   "source": [
    "# Model Building and Evaluation\n"
   ]
  },
  {
   "cell_type": "code",
   "execution_count": 5,
   "metadata": {},
   "outputs": [
    {
     "name": "stdout",
     "output_type": "stream",
     "text": [
      "Training data size: 111400\n",
      "Validation data size: 37134\n",
      "XGBoost Accuracy: 0.6244950719017612\n"
     ]
    },
    {
     "name": "stderr",
     "output_type": "stream",
     "text": [
      "/Users/edaad/anaconda3/lib/python3.11/site-packages/sklearn/linear_model/_sag.py:350: ConvergenceWarning: The max_iter was reached which means the coef_ did not converge\n",
      "  warnings.warn(\n",
      "/Users/edaad/anaconda3/lib/python3.11/site-packages/sklearn/linear_model/_sag.py:350: ConvergenceWarning: The max_iter was reached which means the coef_ did not converge\n",
      "  warnings.warn(\n",
      "/Users/edaad/anaconda3/lib/python3.11/site-packages/sklearn/linear_model/_sag.py:350: ConvergenceWarning: The max_iter was reached which means the coef_ did not converge\n",
      "  warnings.warn(\n",
      "/Users/edaad/anaconda3/lib/python3.11/site-packages/sklearn/linear_model/_sag.py:350: ConvergenceWarning: The max_iter was reached which means the coef_ did not converge\n",
      "  warnings.warn(\n",
      "/Users/edaad/anaconda3/lib/python3.11/site-packages/sklearn/linear_model/_sag.py:350: ConvergenceWarning: The max_iter was reached which means the coef_ did not converge\n",
      "  warnings.warn(\n",
      "/Users/edaad/anaconda3/lib/python3.11/site-packages/sklearn/linear_model/_sag.py:350: ConvergenceWarning: The max_iter was reached which means the coef_ did not converge\n",
      "  warnings.warn(\n",
      "/Users/edaad/anaconda3/lib/python3.11/site-packages/sklearn/linear_model/_sag.py:350: ConvergenceWarning: The max_iter was reached which means the coef_ did not converge\n",
      "  warnings.warn(\n",
      "/Users/edaad/anaconda3/lib/python3.11/site-packages/sklearn/linear_model/_sag.py:350: ConvergenceWarning: The max_iter was reached which means the coef_ did not converge\n",
      "  warnings.warn(\n",
      "/Users/edaad/anaconda3/lib/python3.11/site-packages/sklearn/linear_model/_sag.py:350: ConvergenceWarning: The max_iter was reached which means the coef_ did not converge\n",
      "  warnings.warn(\n"
     ]
    },
    {
     "name": "stdout",
     "output_type": "stream",
     "text": [
      "Best parameters found for Logistic Regression:  {'C': 1, 'penalty': 'l2', 'solver': 'liblinear'}\n",
      "Logistic Regression Accuracy: 0.6048096084450908\n"
     ]
    }
   ],
   "source": [
    "# Split the training data into training and validation sets\n",
    "X_train_part, X_valid, y_train_part, y_valid = train_test_split(\n",
    "    X_train_combined, y_train, test_size=0.25, random_state=42)\n",
    "\n",
    "print(f\"Training data size: {X_train_part.shape[0]}\")\n",
    "print(f\"Validation data size: {X_valid.shape[0]}\")\n",
    "\n",
    "# Convert to DMatrix for XGBoost\n",
    "dtrain = xgb.DMatrix(X_train_part, label=y_train_part)\n",
    "dvalid = xgb.DMatrix(X_valid, label=y_valid)\n",
    "\n",
    "# Define XGBoost parameters\n",
    "xgb_params = {\n",
    "    'objective': 'multi:softmax',\n",
    "    'num_class': 6,  # Classes from 1 to 5 (inclusive)\n",
    "    'max_depth': 6,\n",
    "    'learning_rate': 0.1,\n",
    "    'eval_metric': 'merror',\n",
    "    'seed': 42,\n",
    "    'verbosity': 1,\n",
    "}\n",
    "\n",
    "# Train the XGBoost model\n",
    "xgb_model = xgb.train(\n",
    "    params=xgb_params,\n",
    "    dtrain=dtrain,\n",
    "    num_boost_round=100,\n",
    "    evals=[(dvalid, 'validation')],\n",
    "    early_stopping_rounds=10,\n",
    "    verbose_eval=False\n",
    ")\n",
    "\n",
    "# Predict and evaluate\n",
    "y_pred_xgb = xgb_model.predict(dvalid)\n",
    "accuracy_xgb = accuracy_score(y_valid, y_pred_xgb)\n",
    "print(\"XGBoost Accuracy:\", accuracy_xgb)\n",
    "\n",
    "# Define the parameter grid to search\n",
    "param_grid = {\n",
    "    'C': [0.1, 1, 10],\n",
    "    'solver': ['liblinear', 'saga'],\n",
    "    'penalty': ['l2']\n",
    "}\n",
    "\n",
    "# Initialize the GridSearchCV\n",
    "grid_search = GridSearchCV(\n",
    "    LogisticRegression(max_iter=500, class_weight=class_weights),\n",
    "    param_grid,\n",
    "    cv=3,\n",
    "    scoring='accuracy',\n",
    "    n_jobs=-1\n",
    ")\n",
    "\n",
    "# Fit the model\n",
    "grid_search.fit(X_train_part, y_train_part)\n",
    "\n",
    "# Best parameters\n",
    "print(\"Best parameters found for Logistic Regression: \", grid_search.best_params_)\n",
    "\n",
    "# Best estimator\n",
    "best_logreg = grid_search.best_estimator_\n",
    "\n",
    "# Predict and evaluate\n",
    "y_pred_logreg = best_logreg.predict(X_valid)\n",
    "accuracy_logreg = accuracy_score(y_valid, y_pred_logreg)\n",
    "print(\"Logistic Regression Accuracy:\", accuracy_logreg)\n",
    "\n"
   ]
  },
  {
   "cell_type": "markdown",
   "metadata": {},
   "source": [
    "# Error Analysis\n"
   ]
  },
  {
   "cell_type": "code",
   "execution_count": 6,
   "metadata": {},
   "outputs": [
    {
     "name": "stdout",
     "output_type": "stream",
     "text": [
      "Classification Report for XGBoost:\n",
      "              precision    recall  f1-score   support\n",
      "\n",
      "           1       0.64      0.55      0.59      2373\n",
      "           2       0.49      0.14      0.21      2166\n",
      "           3       0.51      0.20      0.29      4382\n",
      "           4       0.47      0.24      0.32      8401\n",
      "           5       0.66      0.94      0.77     19812\n",
      "\n",
      "    accuracy                           0.62     37134\n",
      "   macro avg       0.55      0.42      0.44     37134\n",
      "weighted avg       0.59      0.62      0.57     37134\n",
      "\n"
     ]
    },
    {
     "data": {
      "image/png": "[encoded data removed]",
      "text/plain": [
       "<Figure size 800x600 with 2 Axes>"
      ]
     },
     "metadata": {},
     "output_type": "display_data"
    }
   ],
   "source": [
    "from sklearn.metrics import classification_report\n",
    "\n",
    "print(\"Classification Report for XGBoost:\")\n",
    "print(classification_report(y_valid, y_pred_xgb))\n",
    "\n",
    "# Confusion Matrix\n",
    "conf_matrix = confusion_matrix(y_valid, y_pred_xgb)\n",
    "plt.figure(figsize=(8,6))\n",
    "sns.heatmap(conf_matrix, annot=True, fmt='d', cmap='Blues')\n",
    "plt.title('Confusion Matrix - XGBoost')\n",
    "plt.xlabel('Predicted Label')\n",
    "plt.ylabel('True Label')\n",
    "plt.show()\n"
   ]
  },
  {
   "cell_type": "markdown",
   "metadata": {},
   "source": [
    "# Cross-Validation"
   ]
  },
  {
   "cell_type": "code",
   "execution_count": 7,
   "metadata": {},
   "outputs": [
    {
     "name": "stdout",
     "output_type": "stream",
     "text": [
      "Performing cross-validation with XGBoost...\n",
      "[0]\ttrain-merror:0.41357+0.00081\ttest-merror:0.42299+0.00161\n",
      "[10]\ttrain-merror:0.39958+0.00062\ttest-merror:0.41486+0.00162\n",
      "[20]\ttrain-merror:0.38857+0.00047\ttest-merror:0.40990+0.00137\n",
      "[30]\ttrain-merror:0.37677+0.00100\ttest-merror:0.40328+0.00154\n",
      "[40]\ttrain-merror:0.36506+0.00141\ttest-merror:0.39726+0.00163\n",
      "[50]\ttrain-merror:0.35337+0.00154\ttest-merror:0.39227+0.00122\n",
      "[60]\ttrain-merror:0.34287+0.00166\ttest-merror:0.38704+0.00099\n",
      "[70]\ttrain-merror:0.33363+0.00170\ttest-merror:0.38336+0.00060\n",
      "[80]\ttrain-merror:0.32582+0.00158\ttest-merror:0.37980+0.00073\n",
      "[90]\ttrain-merror:0.31834+0.00126\ttest-merror:0.37692+0.00040\n",
      "[99]\ttrain-merror:0.31251+0.00112\ttest-merror:0.37512+0.00056\n",
      "XGBoost Cross-validation results:\n",
      "    train-merror-mean  train-merror-std  test-merror-mean  test-merror-std\n",
      "99           0.312508          0.001122          0.375119         0.000562\n"
     ]
    }
   ],
   "source": [
    "# Cross-validation on the sampled training data\n",
    "dtrain_full = xgb.DMatrix(X_train_combined, label=y_train)\n",
    "\n",
    "print(\"Performing cross-validation with XGBoost...\")\n",
    "# Use cross-validation in XGBoost with verbose output\n",
    "cv_results = xgb.cv(\n",
    "    params=xgb_params,\n",
    "    dtrain=dtrain_full,\n",
    "    num_boost_round=100,\n",
    "    nfold=3,\n",
    "    metrics={'merror'},\n",
    "    early_stopping_rounds=10,\n",
    "    seed=42,\n",
    "    verbose_eval=10  # Print progress every 10 iterations\n",
    ")\n",
    "\n",
    "print(\"XGBoost Cross-validation results:\")\n",
    "print(cv_results.tail(1))\n"
   ]
  },
  {
   "cell_type": "markdown",
   "metadata": {},
   "source": [
    "# Final Model Training and Prediction"
   ]
  },
  {
   "cell_type": "code",
   "execution_count": 8,
   "metadata": {},
   "outputs": [
    {
     "name": "stdout",
     "output_type": "stream",
     "text": [
      "Retraining XGBoost model on full training data...\n",
      "Predicting on test data...\n",
      "Submission file created successfully!\n"
     ]
    }
   ],
   "source": [
    "# Retrain the XGBoost model on the entire sampled training data\n",
    "dtrain_full = xgb.DMatrix(X_train_combined, label=y_train)\n",
    "dtest = xgb.DMatrix(X_test_combined)\n",
    "\n",
    "print(\"Retraining XGBoost model on full training data...\")\n",
    "# Train the model\n",
    "xgb_model_full = xgb.train(\n",
    "    params=xgb_params,\n",
    "    dtrain=dtrain_full,\n",
    "    num_boost_round=len(cv_results),\n",
    "    verbose_eval=False  # Suppress output during final training\n",
    ")\n",
    "\n",
    "print(\"Predicting on test data...\")\n",
    "# Predict on test data\n",
    "y_test_pred = xgb_model_full.predict(dtest)\n",
    "\n",
    "# Prepare submission file\n",
    "submission = test_df[['Id']].copy()\n",
    "submission['Score'] = y_test_pred.astype(int)  # Ensure integer scores\n",
    "\n",
    "# Save to CSV\n",
    "submission.to_csv('submission.csv', index=False)\n",
    "\n",
    "print(\"Submission file created successfully!\")\n"
   ]
  }
 ],
 "metadata": {
  "kernelspec": {
   "display_name": "base",
   "language": "python",
   "name": "python3"
  },
  "language_info": {
   "codemirror_mode": {
    "name": "ipython",
    "version": 3
   },
   "file_extension": ".py",
   "mimetype": "text/x-python",
   "name": "python",
   "nbconvert_exporter": "python",
   "pygments_lexer": "ipython3",
   "version": "3.11.4"
  }
 },
 "nbformat": 4,
 "nbformat_minor": 2
}
